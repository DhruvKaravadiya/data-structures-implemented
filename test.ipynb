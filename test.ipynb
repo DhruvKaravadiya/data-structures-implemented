{
 "cells": [
  {
   "cell_type": "code",
   "execution_count": 8,
   "metadata": {},
   "outputs": [
    {
     "ename": "TypeError",
     "evalue": "'type' object is not subscriptable",
     "output_type": "error",
     "traceback": [
      "\u001b[1;31m---------------------------------------------------------------------------\u001b[0m",
      "\u001b[1;31mTypeError\u001b[0m                                 Traceback (most recent call last)",
      "Cell \u001b[1;32mIn[8], line 14\u001b[0m\n\u001b[0;32m     12\u001b[0m         \u001b[39melse\u001b[39;00m:\n\u001b[0;32m     13\u001b[0m             \u001b[39mreturn\u001b[39;00m isHappy(\u001b[39mself\u001b[39m,squareSum(temp))\n\u001b[1;32m---> 14\u001b[0m \u001b[39mdef\u001b[39;00m \u001b[39msquareSum\u001b[39m(\u001b[39mself\u001b[39m,digits: List[\u001b[39mint\u001b[39;49m]):\n\u001b[0;32m     15\u001b[0m     \u001b[39msum\u001b[39m\u001b[39m=\u001b[39m\u001b[39m0\u001b[39m\n\u001b[0;32m     16\u001b[0m     \u001b[39mfor\u001b[39;00m i \u001b[39min\u001b[39;00m digits:\n",
      "\u001b[1;31mTypeError\u001b[0m: 'type' object is not subscriptable"
     ]
    }
   ],
   "source": [
    "\n",
    "answers=()\n",
    "def isHappy(self, n):\n",
    "        temp=[]\n",
    "        while n>0:\n",
    "            temp.append(n%10)\n",
    "            n=n//10\n",
    "        if squareSum(temp,1) in answers:\n",
    "            return True\n",
    "        else:\n",
    "            return isHappy(self,squareSum(temp))\n",
    "def squareSum(self,digits: List[int]):\n",
    "    sum=0\n",
    "    for i in digits:\n",
    "        sum = sum + (i*i)\n",
    "    return sum\n",
    "print(isHappy(1,1))"
   ]
  }
 ],
 "metadata": {
  "kernelspec": {
   "display_name": "Python 3",
   "language": "python",
   "name": "python3"
  },
  "language_info": {
   "codemirror_mode": {
    "name": "ipython",
    "version": 3
   },
   "file_extension": ".py",
   "mimetype": "text/x-python",
   "name": "python",
   "nbconvert_exporter": "python",
   "pygments_lexer": "ipython3",
   "version": "3.10.11"
  },
  "orig_nbformat": 4
 },
 "nbformat": 4,
 "nbformat_minor": 2
}
